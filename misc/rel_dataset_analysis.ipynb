{
 "cells": [
  {
   "cell_type": "markdown",
   "metadata": {},
   "source": [
    "## Relation Dataset Analysis\n",
    "#### David da Costa Correia @ FCUL & INSA\n",
    "1. Overlap of the databases in terms of:\n",
    "    1. PMIDs\n",
    "    2. ncRNAs\n",
    "    3. Diseases\n",
    "    4. Relations"
   ]
  },
  {
   "cell_type": "code",
   "execution_count": 1,
   "metadata": {},
   "outputs": [],
   "source": [
    "import pandas as pd\n",
    "import json\n",
    "import os\n",
    "import matplotlib.pyplot as plt\n",
    "from venn import venn"
   ]
  },
  {
   "cell_type": "code",
   "execution_count": 2,
   "metadata": {},
   "outputs": [],
   "source": [
    "def make_venn(df, col, dbs):\n",
    "    sets = {}\n",
    "    for db in dbs:\n",
    "        _set = set(df[df['DB']==db][col])\n",
    "        sets[db] = _set\n",
    "    venn(sets, figsize=(15,10))\n",
    "    plt.title(f'{col}')\n",
    "    plt.show()"
   ]
  },
  {
   "cell_type": "code",
   "execution_count": 3,
   "metadata": {},
   "outputs": [],
   "source": [
    "data = pd.read_csv('../outputs/dataset/rel_dataset.csv', sep='\\t')\n",
    "data['Relation'] = data.apply(lambda row: (row['RNAC ID'], row['HPO ID']), axis=1)\n",
    "dbs = ['HMDD','lncRNA-Disease','ncrPheno','RIscoper','RNADisease']"
   ]
  },
  {
   "cell_type": "code",
   "execution_count": null,
   "metadata": {},
   "outputs": [],
   "source": [
    "n_rels = len(data['Relation'].unique())\n",
    "n_orig = len(data[data['DB'] != 'Ancestor Propagation']['Relation'].unique())\n",
    "n_rnas = len(data['RNAC ID'].unique())\n",
    "n_phen = len(data['HPO ID'].unique())\n",
    "n_arts = len(data['PMID'].unique())\n",
    "\n",
    "print(f'Relations:        {n_rels}')\n",
    "print(f'Original:         {n_orig}')\n",
    "print(f'From propagation: {n_rels-n_orig}')\n",
    "print(f'ncRNAs:           {n_rnas}')\n",
    "print(f'Phenotypes:       {n_phen}')\n",
    "print(f'Articles:         {n_arts}')"
   ]
  },
  {
   "cell_type": "code",
   "execution_count": null,
   "metadata": {},
   "outputs": [],
   "source": [
    "make_venn(data, 'RNAC ID', dbs)"
   ]
  },
  {
   "cell_type": "code",
   "execution_count": null,
   "metadata": {},
   "outputs": [],
   "source": [
    "make_venn(data, 'HPO ID', dbs)"
   ]
  },
  {
   "cell_type": "code",
   "execution_count": null,
   "metadata": {},
   "outputs": [],
   "source": [
    "make_venn(data, 'Relation', dbs)"
   ]
  },
  {
   "cell_type": "code",
   "execution_count": null,
   "metadata": {},
   "outputs": [],
   "source": [
    "make_venn(data, 'PMID', dbs)"
   ]
  }
 ],
 "metadata": {
  "kernelspec": {
   "display_name": "merpy",
   "language": "python",
   "name": "python3"
  },
  "language_info": {
   "codemirror_mode": {
    "name": "ipython",
    "version": 3
   },
   "file_extension": ".py",
   "mimetype": "text/x-python",
   "name": "python",
   "nbconvert_exporter": "python",
   "pygments_lexer": "ipython3",
   "version": "3.10.13"
  }
 },
 "nbformat": 4,
 "nbformat_minor": 2
}
