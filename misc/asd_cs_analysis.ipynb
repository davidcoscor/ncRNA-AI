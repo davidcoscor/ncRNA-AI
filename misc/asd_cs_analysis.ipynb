{
 "cells": [
  {
   "cell_type": "code",
   "execution_count": 1,
   "metadata": {},
   "outputs": [],
   "source": [
    "import pandas as pd\n",
    "from math import log\n",
    "from collections import defaultdict"
   ]
  },
  {
   "cell_type": "code",
   "execution_count": 26,
   "metadata": {},
   "outputs": [],
   "source": [
    "def get_phen(row):\n",
    "\treturn row['e1_text'] if row['e1_type'] == 'Phenotype' else row['e2_text']\n",
    "\n",
    "def get_rna(row):\n",
    "\t# GST that links misc-RNA URS00004F7BA4 conflicts with glutathione S-transferase genes, that are protein coding\n",
    "\t# 16s rrna links with studies about anti-shine delgano sequences (ASD), instead of autism\n",
    "\t# ASM is anti-seizure medication\n",
    "\t# storm refers to cytokine storm\n",
    "\tFILTER = ['air','top','fast','dams','particle','cardinal','digit','laser','gst','asm','storm','16s rrna','trn','tag','cntnap2','maas']\n",
    "\tif row['e1_type'] == 'ncRNA':\n",
    "\t\trna = row['e1_text'].lower().replace('-','')\n",
    "\telse:\n",
    "\t\trna = row['e2_text'].lower().replace('-','')\n",
    "\t\n",
    "\tif rna not in FILTER:\n",
    "\t\treturn rna\n",
    "\n",
    "def get_pair(row):\n",
    "\treturn (row['e1_ID'],row['e2_ID']) if row['e1_type'] == 'ncRNA' else (row['e2_ID'],row['e1_ID'])\n",
    "\n",
    "def k_higher_value_counts(k:int, data):\n",
    "\tif not isinstance(data, pd.Series):\n",
    "\t\tdata = pd.Series(data)\n",
    "\tcounts = data.value_counts()[:k]\n",
    "\tratios = data.value_counts(normalize=True)[:k]\n",
    "\treturn pd.concat([counts, ratios], axis=1).reset_index()\n",
    "\n",
    "def npmi(relation, data):\n",
    "\trna, phe = relation\n",
    "\tn_t = len(data)\n",
    "\tn_rna = len(data[data.apply(lambda row: rna in tuple(row), axis=1)])\n",
    "\tn_phe = len(data[data.apply(lambda row: phe in tuple(row), axis=1)])\n",
    "\tn_rna_phe = len(data[data.apply(lambda row: rna in tuple(row) and phe in tuple(row), axis=1)])\n",
    "\n",
    "\treturn log((n_rna_phe*n_t)/(n_rna*n_phe))/(-log(n_rna_phe/n_t))\n",
    "\n",
    "def get_relation_npmis(data):\n",
    "\trels = data['pair'].unique()\n",
    "\trels = pd.DataFrame(rels, columns=['relation'])\n",
    "\trels['npmi'] = rels['relation'].apply(lambda x: npmi(x, data))\n",
    "\treturn rels"
   ]
  },
  {
   "cell_type": "code",
   "execution_count": null,
   "metadata": {},
   "outputs": [],
   "source": [
    "results = pd.read_csv('../outputs/asd/asd_rels.csv', sep='\\t')\n",
    "\n",
    "results['rna'] = results.apply(get_rna, axis=1)\n",
    "results['phen'] = results.apply(get_phen, axis=1)\n",
    "results['pair'] = results.apply(get_pair, axis=1)\n",
    "results.dropna(inplace=True)\n",
    "# results.drop_duplicates(inplace=True)\n",
    "rna_names = defaultdict(set)\n",
    "phe_names = defaultdict(set)\n",
    "for i,row in results.iterrows():\n",
    "\trna_name, phe_name = row['rna'], row['phen']\n",
    "\trna_id, phe_id = row['pair']\n",
    "\trna_names[rna_id].add(rna_name)\n",
    "\tphe_names[phe_id].add(phe_name)\n",
    "\n",
    "print('Number of sentences:    ', len(results['sentence'].unique()))\n",
    "print('Number of annotations:  ', len(results))\n",
    "print('    Positives:          ', len(results[results['label'] == 1]))\n",
    "print('    Negatives:          ', len(results[results['label'] == 0]))\n",
    "print('Number of relations:    ', len(results['pair'].unique()))\n",
    "print('    Positives:          ', len(results[results['label'] == 1]['pair'].unique()))\n",
    "print('    Negatives:          ', len(results[results['label'] == 0]['pair'].unique()))\n",
    "print('Number of unique ncRNAs:', len(results['pair'].apply(lambda x: x[0]).unique()))\n",
    "print('Number of articles:     ', len(results['pmcid'].unique()))\n"
   ]
  },
  {
   "cell_type": "code",
   "execution_count": 28,
   "metadata": {},
   "outputs": [],
   "source": [
    "npmis = get_relation_npmis(results)\n",
    "def get_names(x):\n",
    "\treturn rna_names.get(x[0]), phe_names.get(x[1])\n",
    "npmis['names'] = npmis['relation'].apply(get_names)"
   ]
  },
  {
   "cell_type": "code",
   "execution_count": null,
   "metadata": {},
   "outputs": [],
   "source": [
    "npmis.sort_values(by='npmi', inplace=True, ascending=False)\n",
    "print('NPMI of relations')\n",
    "npmis[:10]"
   ]
  },
  {
   "cell_type": "code",
   "execution_count": null,
   "metadata": {},
   "outputs": [],
   "source": [
    "# Most common ncRNAs related to ASD\n",
    "positives = results[results['label'] == 1]['rna']\n",
    "negatives = results[results['label'] == 0]['rna']\n",
    "overlap = set(positives).intersection(set(negatives))\n",
    "\n",
    "positives_only = positives[~positives.isin(overlap)]\n",
    "negatives_only = negatives[~negatives.isin(overlap)]\n",
    "\n",
    "print('ncRNAs in positives')\n",
    "display(k_higher_value_counts(10, positives))\n",
    "# print('ncRNAs in negatives')\n",
    "# display(k_higher_value_counts(10, negatives))\n",
    "# print('ncRNAs only in positives')\n",
    "# display(k_higher_value_counts(10, positives_only))\n",
    "# print('ncRNAs only in negatives')\n",
    "# display(k_higher_value_counts(10, negatives_only))"
   ]
  },
  {
   "cell_type": "code",
   "execution_count": null,
   "metadata": {},
   "outputs": [],
   "source": [
    "results[results['rna'] == 'hsamir211']#['sentence'].tolist()"
   ]
  },
  {
   "cell_type": "code",
   "execution_count": 139,
   "metadata": {},
   "outputs": [],
   "source": [
    "# Results table\n",
    "ncrnas_results = k_higher_value_counts(10, positives)\n",
    "ncrnas_results['%'] = ncrnas_results['proportion'].apply(lambda x: f'{x*100:.2f}')\n",
    "ncrnas_results.drop('proportion', axis=1, inplace=True)\n",
    "ncrnas_results['n_articles'] = ncrnas_results['rna'].apply(lambda x: len(results[results['rna'] == x]['pmcid'].unique()))\n",
    "ncrnas_results['n_sentences'] = ncrnas_results['rna'].apply(lambda x: len(results[results['rna'] == x]['sentence'].unique()))\n",
    "ncrnas_results.index = [1,2,3,4,5,6,7,8,9,10]\n",
    "# ncrnas_results.to_latex('./ncrnas.tex')"
   ]
  }
 ],
 "metadata": {
  "kernelspec": {
   "display_name": "corpus_env",
   "language": "python",
   "name": "python3"
  },
  "language_info": {
   "codemirror_mode": {
    "name": "ipython",
    "version": 3
   },
   "file_extension": ".py",
   "mimetype": "text/x-python",
   "name": "python",
   "nbconvert_exporter": "python",
   "pygments_lexer": "ipython3",
   "version": "3.10.13"
  }
 },
 "nbformat": 4,
 "nbformat_minor": 2
}
